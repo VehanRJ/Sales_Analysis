{
 "cells": [
  {
   "cell_type": "code",
   "execution_count": 1,
   "id": "3e72ffbf",
   "metadata": {},
   "outputs": [
    {
     "name": "stdout",
     "output_type": "stream",
     "text": [
      "Hi\n"
     ]
    }
   ],
   "source": [
    "print(\"Hi\")"
   ]
  },
  {
   "cell_type": "code",
   "execution_count": 2,
   "id": "013ec261",
   "metadata": {},
   "outputs": [
    {
     "name": "stdout",
     "output_type": "stream",
     "text": [
      "15\n"
     ]
    }
   ],
   "source": [
    "a=5\n",
    "b=10\n",
    "print(a+b)"
   ]
  },
  {
   "cell_type": "code",
   "execution_count": 3,
   "id": "4ce29994",
   "metadata": {},
   "outputs": [
    {
     "ename": "ModuleNotFoundError",
     "evalue": "No module named 'numpy'",
     "output_type": "error",
     "traceback": [
      "\u001b[31m---------------------------------------------------------------------------\u001b[39m",
      "\u001b[31mModuleNotFoundError\u001b[39m                       Traceback (most recent call last)",
      "\u001b[36mCell\u001b[39m\u001b[36m \u001b[39m\u001b[32mIn[3]\u001b[39m\u001b[32m, line 1\u001b[39m\n\u001b[32m----> \u001b[39m\u001b[32m1\u001b[39m \u001b[38;5;28;01mimport\u001b[39;00m\u001b[38;5;250m \u001b[39m\u001b[34;01mnumpy\u001b[39;00m\n",
      "\u001b[31mModuleNotFoundError\u001b[39m: No module named 'numpy'"
     ]
    }
   ],
   "source": [
    "import numpy"
   ]
  },
  {
   "cell_type": "code",
   "execution_count": 4,
   "id": "2d67a7b4",
   "metadata": {},
   "outputs": [
    {
     "name": "stdout",
     "output_type": "stream",
     "text": [
      "Collecting numpy\n",
      "  Downloading numpy-2.3.2-cp313-cp313-win_amd64.whl.metadata (60 kB)\n",
      "Downloading numpy-2.3.2-cp313-cp313-win_amd64.whl (12.8 MB)\n",
      "   ---------------------------------------- 0.0/12.8 MB ? eta -:--:--\n",
      "   --- ------------------------------------ 1.0/12.8 MB 6.1 MB/s eta 0:00:02\n",
      "   ---- ----------------------------------- 1.3/12.8 MB 3.3 MB/s eta 0:00:04\n",
      "   ------- -------------------------------- 2.4/12.8 MB 4.3 MB/s eta 0:00:03\n",
      "   --------- ------------------------------ 3.1/12.8 MB 4.1 MB/s eta 0:00:03\n",
      "   ------------ --------------------------- 3.9/12.8 MB 4.0 MB/s eta 0:00:03\n",
      "   -------------- ------------------------- 4.7/12.8 MB 3.9 MB/s eta 0:00:03\n",
      "   ----------------- ---------------------- 5.5/12.8 MB 3.8 MB/s eta 0:00:02\n",
      "   ------------------- -------------------- 6.3/12.8 MB 3.8 MB/s eta 0:00:02\n",
      "   --------------------- ------------------ 6.8/12.8 MB 3.7 MB/s eta 0:00:02\n",
      "   ----------------------- ---------------- 7.6/12.8 MB 3.7 MB/s eta 0:00:02\n",
      "   -------------------------- ------------- 8.4/12.8 MB 3.7 MB/s eta 0:00:02\n",
      "   ---------------------------- ----------- 9.2/12.8 MB 3.7 MB/s eta 0:00:01\n",
      "   ------------------------------- -------- 10.0/12.8 MB 3.7 MB/s eta 0:00:01\n",
      "   --------------------------------- ------ 10.7/12.8 MB 3.8 MB/s eta 0:00:01\n",
      "   ------------------------------------ --- 11.5/12.8 MB 3.8 MB/s eta 0:00:01\n",
      "   ---------------------------------------  12.6/12.8 MB 3.8 MB/s eta 0:00:01\n",
      "   ---------------------------------------- 12.8/12.8 MB 3.8 MB/s eta 0:00:00\n",
      "Installing collected packages: numpy\n",
      "Successfully installed numpy-2.3.2\n"
     ]
    }
   ],
   "source": [
    "!pip install numpy"
   ]
  },
  {
   "cell_type": "code",
   "execution_count": 5,
   "id": "8fc888a4",
   "metadata": {},
   "outputs": [
    {
     "name": "stdout",
     "output_type": "stream",
     "text": [
      "Collecting pandas\n",
      "  Downloading pandas-2.3.1-cp313-cp313-win_amd64.whl.metadata (19 kB)\n",
      "Collecting matplotlib\n",
      "  Downloading matplotlib-3.10.5-cp313-cp313-win_amd64.whl.metadata (11 kB)\n",
      "Requirement already satisfied: numpy>=1.26.0 in c:\\users\\hp\\miniconda3\\lib\\site-packages (from pandas) (2.3.2)\n",
      "Requirement already satisfied: python-dateutil>=2.8.2 in c:\\users\\hp\\miniconda3\\lib\\site-packages (from pandas) (2.9.0.post0)\n",
      "Collecting pytz>=2020.1 (from pandas)\n",
      "  Using cached pytz-2025.2-py2.py3-none-any.whl.metadata (22 kB)\n",
      "Collecting tzdata>=2022.7 (from pandas)\n",
      "  Downloading tzdata-2025.2-py2.py3-none-any.whl.metadata (1.4 kB)\n",
      "Collecting contourpy>=1.0.1 (from matplotlib)\n",
      "  Downloading contourpy-1.3.3-cp313-cp313-win_amd64.whl.metadata (5.5 kB)\n",
      "Collecting cycler>=0.10 (from matplotlib)\n",
      "  Downloading cycler-0.12.1-py3-none-any.whl.metadata (3.8 kB)\n",
      "Collecting fonttools>=4.22.0 (from matplotlib)\n",
      "  Downloading fonttools-4.59.0-cp313-cp313-win_amd64.whl.metadata (110 kB)\n",
      "Collecting kiwisolver>=1.3.1 (from matplotlib)\n",
      "  Downloading kiwisolver-1.4.8-cp313-cp313-win_amd64.whl.metadata (6.3 kB)\n",
      "Requirement already satisfied: packaging>=20.0 in c:\\users\\hp\\miniconda3\\lib\\site-packages (from matplotlib) (24.2)\n",
      "Collecting pillow>=8 (from matplotlib)\n",
      "  Downloading pillow-11.3.0-cp313-cp313-win_amd64.whl.metadata (9.2 kB)\n",
      "Collecting pyparsing>=2.3.1 (from matplotlib)\n",
      "  Downloading pyparsing-3.2.3-py3-none-any.whl.metadata (5.0 kB)\n",
      "Requirement already satisfied: six>=1.5 in c:\\users\\hp\\miniconda3\\lib\\site-packages (from python-dateutil>=2.8.2->pandas) (1.17.0)\n",
      "Downloading pandas-2.3.1-cp313-cp313-win_amd64.whl (11.0 MB)\n",
      "   ---------------------------------------- 0.0/11.0 MB ? eta -:--:--\n",
      "   --- ------------------------------------ 1.0/11.0 MB 6.3 MB/s eta 0:00:02\n",
      "   ------ --------------------------------- 1.8/11.0 MB 4.6 MB/s eta 0:00:03\n",
      "   -------- ------------------------------- 2.4/11.0 MB 4.5 MB/s eta 0:00:02\n",
      "   ----------- ---------------------------- 3.1/11.0 MB 4.1 MB/s eta 0:00:02\n",
      "   --------------- ------------------------ 4.2/11.0 MB 4.1 MB/s eta 0:00:02\n",
      "   ------------------ --------------------- 5.0/11.0 MB 4.0 MB/s eta 0:00:02\n",
      "   -------------------- ------------------- 5.8/11.0 MB 4.0 MB/s eta 0:00:02\n",
      "   ----------------------- ---------------- 6.6/11.0 MB 4.0 MB/s eta 0:00:02\n",
      "   -------------------------- ------------- 7.3/11.0 MB 4.0 MB/s eta 0:00:01\n",
      "   ----------------------------- ---------- 8.1/11.0 MB 4.0 MB/s eta 0:00:01\n",
      "   -------------------------------- ------- 8.9/11.0 MB 4.0 MB/s eta 0:00:01\n",
      "   ------------------------------------ --- 10.0/11.0 MB 3.9 MB/s eta 0:00:01\n",
      "   ---------------------------------------  10.7/11.0 MB 3.9 MB/s eta 0:00:01\n",
      "   ---------------------------------------- 11.0/11.0 MB 3.9 MB/s eta 0:00:00\n",
      "Downloading matplotlib-3.10.5-cp313-cp313-win_amd64.whl (8.1 MB)\n",
      "   ---------------------------------------- 0.0/8.1 MB ? eta -:--:--\n",
      "   --- ------------------------------------ 0.8/8.1 MB 4.4 MB/s eta 0:00:02\n",
      "   ------- -------------------------------- 1.6/8.1 MB 4.1 MB/s eta 0:00:02\n",
      "   ------------ --------------------------- 2.6/8.1 MB 4.0 MB/s eta 0:00:02\n",
      "   ---------------- ----------------------- 3.4/8.1 MB 4.0 MB/s eta 0:00:02\n",
      "   -------------------- ------------------- 4.2/8.1 MB 3.9 MB/s eta 0:00:01\n",
      "   ------------------------ --------------- 5.0/8.1 MB 3.9 MB/s eta 0:00:01\n",
      "   ---------------------------- ----------- 5.8/8.1 MB 3.9 MB/s eta 0:00:01\n",
      "   -------------------------------- ------- 6.6/8.1 MB 3.9 MB/s eta 0:00:01\n",
      "   ------------------------------------ --- 7.3/8.1 MB 3.9 MB/s eta 0:00:01\n",
      "   ---------------------------------------- 8.1/8.1 MB 3.9 MB/s eta 0:00:00\n",
      "Downloading contourpy-1.3.3-cp313-cp313-win_amd64.whl (226 kB)\n",
      "Downloading cycler-0.12.1-py3-none-any.whl (8.3 kB)\n",
      "Downloading fonttools-4.59.0-cp313-cp313-win_amd64.whl (2.2 MB)\n",
      "   ---------------------------------------- 0.0/2.2 MB ? eta -:--:--\n",
      "   ------------------ --------------------- 1.0/2.2 MB 5.0 MB/s eta 0:00:01\n",
      "   -------------------------------- ------- 1.8/2.2 MB 4.4 MB/s eta 0:00:01\n",
      "   ---------------------------------------- 2.2/2.2 MB 4.2 MB/s eta 0:00:00\n",
      "Downloading kiwisolver-1.4.8-cp313-cp313-win_amd64.whl (71 kB)\n",
      "Downloading pillow-11.3.0-cp313-cp313-win_amd64.whl (7.0 MB)\n",
      "   ---------------------------------------- 0.0/7.0 MB ? eta -:--:--\n",
      "   ------ --------------------------------- 1.0/7.0 MB 4.3 MB/s eta 0:00:02\n",
      "   ---------- ----------------------------- 1.8/7.0 MB 4.1 MB/s eta 0:00:02\n",
      "   --------------- ------------------------ 2.6/7.0 MB 4.0 MB/s eta 0:00:02\n",
      "   ------------------- -------------------- 3.4/7.0 MB 3.9 MB/s eta 0:00:01\n",
      "   ------------------------ --------------- 4.2/7.0 MB 3.9 MB/s eta 0:00:01\n",
      "   ---------------------------- ----------- 5.0/7.0 MB 3.9 MB/s eta 0:00:01\n",
      "   --------------------------------- ------ 5.8/7.0 MB 3.9 MB/s eta 0:00:01\n",
      "   ------------------------------------- -- 6.6/7.0 MB 3.9 MB/s eta 0:00:01\n",
      "   ---------------------------------------- 7.0/7.0 MB 3.9 MB/s eta 0:00:00\n",
      "Downloading pyparsing-3.2.3-py3-none-any.whl (111 kB)\n",
      "Using cached pytz-2025.2-py2.py3-none-any.whl (509 kB)\n",
      "Downloading tzdata-2025.2-py2.py3-none-any.whl (347 kB)\n",
      "Installing collected packages: pytz, tzdata, pyparsing, pillow, kiwisolver, fonttools, cycler, contourpy, pandas, matplotlib\n",
      "\n",
      "   ----------------------------------------  0/10 [pytz]\n",
      "   ---- -----------------------------------  1/10 [tzdata]\n",
      "   ---- -----------------------------------  1/10 [tzdata]\n",
      "   -------- -------------------------------  2/10 [pyparsing]\n",
      "   ------------ ---------------------------  3/10 [pillow]\n",
      "   ------------ ---------------------------  3/10 [pillow]\n",
      "   ------------ ---------------------------  3/10 [pillow]\n",
      "   -------------------- -------------------  5/10 [fonttools]\n",
      "   -------------------- -------------------  5/10 [fonttools]\n",
      "   -------------------- -------------------  5/10 [fonttools]\n",
      "   -------------------- -------------------  5/10 [fonttools]\n",
      "   -------------------- -------------------  5/10 [fonttools]\n",
      "   -------------------- -------------------  5/10 [fonttools]\n",
      "   -------------------- -------------------  5/10 [fonttools]\n",
      "   -------------------- -------------------  5/10 [fonttools]\n",
      "   -------------------- -------------------  5/10 [fonttools]\n",
      "   ---------------------------- -----------  7/10 [contourpy]\n",
      "   -------------------------------- -------  8/10 [pandas]\n",
      "   -------------------------------- -------  8/10 [pandas]\n",
      "   -------------------------------- -------  8/10 [pandas]\n",
      "   -------------------------------- -------  8/10 [pandas]\n",
      "   -------------------------------- -------  8/10 [pandas]\n",
      "   -------------------------------- -------  8/10 [pandas]\n",
      "   -------------------------------- -------  8/10 [pandas]\n",
      "   -------------------------------- -------  8/10 [pandas]\n",
      "   -------------------------------- -------  8/10 [pandas]\n",
      "   -------------------------------- -------  8/10 [pandas]\n",
      "   -------------------------------- -------  8/10 [pandas]\n",
      "   -------------------------------- -------  8/10 [pandas]\n",
      "   -------------------------------- -------  8/10 [pandas]\n",
      "   -------------------------------- -------  8/10 [pandas]\n",
      "   -------------------------------- -------  8/10 [pandas]\n",
      "   -------------------------------- -------  8/10 [pandas]\n",
      "   -------------------------------- -------  8/10 [pandas]\n",
      "   -------------------------------- -------  8/10 [pandas]\n",
      "   -------------------------------- -------  8/10 [pandas]\n",
      "   -------------------------------- -------  8/10 [pandas]\n",
      "   -------------------------------- -------  8/10 [pandas]\n",
      "   -------------------------------- -------  8/10 [pandas]\n",
      "   -------------------------------- -------  8/10 [pandas]\n",
      "   -------------------------------- -------  8/10 [pandas]\n",
      "   -------------------------------- -------  8/10 [pandas]\n",
      "   -------------------------------- -------  8/10 [pandas]\n",
      "   -------------------------------- -------  8/10 [pandas]\n",
      "   -------------------------------- -------  8/10 [pandas]\n",
      "   -------------------------------- -------  8/10 [pandas]\n",
      "   -------------------------------- -------  8/10 [pandas]\n",
      "   -------------------------------- -------  8/10 [pandas]\n",
      "   -------------------------------- -------  8/10 [pandas]\n",
      "   -------------------------------- -------  8/10 [pandas]\n",
      "   -------------------------------- -------  8/10 [pandas]\n",
      "   -------------------------------- -------  8/10 [pandas]\n",
      "   -------------------------------- -------  8/10 [pandas]\n",
      "   -------------------------------- -------  8/10 [pandas]\n",
      "   -------------------------------- -------  8/10 [pandas]\n",
      "   -------------------------------- -------  8/10 [pandas]\n",
      "   -------------------------------- -------  8/10 [pandas]\n",
      "   -------------------------------- -------  8/10 [pandas]\n",
      "   -------------------------------- -------  8/10 [pandas]\n",
      "   -------------------------------- -------  8/10 [pandas]\n",
      "   -------------------------------- -------  8/10 [pandas]\n",
      "   -------------------------------- -------  8/10 [pandas]\n",
      "   -------------------------------- -------  8/10 [pandas]\n",
      "   -------------------------------- -------  8/10 [pandas]\n",
      "   -------------------------------- -------  8/10 [pandas]\n",
      "   ------------------------------------ ---  9/10 [matplotlib]\n",
      "   ------------------------------------ ---  9/10 [matplotlib]\n",
      "   ------------------------------------ ---  9/10 [matplotlib]\n",
      "   ------------------------------------ ---  9/10 [matplotlib]\n",
      "   ------------------------------------ ---  9/10 [matplotlib]\n",
      "   ------------------------------------ ---  9/10 [matplotlib]\n",
      "   ------------------------------------ ---  9/10 [matplotlib]\n",
      "   ------------------------------------ ---  9/10 [matplotlib]\n",
      "   ------------------------------------ ---  9/10 [matplotlib]\n",
      "   ------------------------------------ ---  9/10 [matplotlib]\n",
      "   ------------------------------------ ---  9/10 [matplotlib]\n",
      "   ------------------------------------ ---  9/10 [matplotlib]\n",
      "   ------------------------------------ ---  9/10 [matplotlib]\n",
      "   ------------------------------------ ---  9/10 [matplotlib]\n",
      "   ------------------------------------ ---  9/10 [matplotlib]\n",
      "   ---------------------------------------- 10/10 [matplotlib]\n",
      "\n",
      "Successfully installed contourpy-1.3.3 cycler-0.12.1 fonttools-4.59.0 kiwisolver-1.4.8 matplotlib-3.10.5 pandas-2.3.1 pillow-11.3.0 pyparsing-3.2.3 pytz-2025.2 tzdata-2025.2\n"
     ]
    }
   ],
   "source": [
    "!pip install pandas matplotlib"
   ]
  },
  {
   "cell_type": "code",
   "execution_count": 7,
   "id": "6422f686",
   "metadata": {},
   "outputs": [],
   "source": [
    "import numpy as np"
   ]
  },
  {
   "cell_type": "code",
   "execution_count": 8,
   "id": "653a654e",
   "metadata": {},
   "outputs": [
    {
     "name": "stdout",
     "output_type": "stream",
     "text": [
      "Hello\n"
     ]
    }
   ],
   "source": [
    "print(\"Hello\")"
   ]
  },
  {
   "cell_type": "code",
   "execution_count": null,
   "id": "db55baff",
   "metadata": {},
   "outputs": [],
   "source": []
  }
 ],
 "metadata": {
  "kernelspec": {
   "display_name": "Python 3 (ipykernel)",
   "language": "python",
   "name": "python3"
  },
  "language_info": {
   "codemirror_mode": {
    "name": "ipython",
    "version": 3
   },
   "file_extension": ".py",
   "mimetype": "text/x-python",
   "name": "python",
   "nbconvert_exporter": "python",
   "pygments_lexer": "ipython3",
   "version": "3.13.5"
  }
 },
 "nbformat": 4,
 "nbformat_minor": 5
}
